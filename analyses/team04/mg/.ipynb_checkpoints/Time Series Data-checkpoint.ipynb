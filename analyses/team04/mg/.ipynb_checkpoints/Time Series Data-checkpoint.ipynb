{
 "cells": [
  {
   "cell_type": "markdown",
   "metadata": {},
   "source": [
    "In this notebook we investigate time series data and time trends in the SEP data"
   ]
  },
  {
   "cell_type": "markdown",
   "metadata": {},
   "source": [
    "# Setup"
   ]
  },
  {
   "cell_type": "code",
   "execution_count": 1,
   "metadata": {},
   "outputs": [],
   "source": [
    "import pandas as pd\n",
    "import matplotlib.pyplot as plt\n",
    "import seaborn as sns\n",
    "import numpy as np\n",
    "import sklearn\n",
    "from datetime import datetime, date\n",
    "import os\n",
    "import zipfile"
   ]
  },
  {
   "cell_type": "code",
   "execution_count": 2,
   "metadata": {},
   "outputs": [],
   "source": [
    "# Set up some directory info, and figure export path\n",
    "PROJECT_ROOT_DIR = '../../../'\n",
    "NOTEBOOK_ID = 'Time_Series_Data'\n",
    "FIGURE_EXPORT_PATH = os.path.join(PROJECT_ROOT_DIR, \"analyses/team04/mg/figures\", NOTEBOOK_ID)\n",
    "os.makedirs(FIGURE_EXPORT_PATH, exist_ok = True)"
   ]
  },
  {
   "cell_type": "code",
   "execution_count": 3,
   "metadata": {},
   "outputs": [],
   "source": [
    "# Define figure export\n",
    "def save_fig(fig_id, tight_layout=True, fig_extension = \"png\", resolution = 300):\n",
    "    path = os.path.join(FIGURE_EXPORT_PATH, fig_id + '.' + fig_extension)\n",
    "    print(\"Saving figure\", fig_id)\n",
    "    if tight_layout:\n",
    "        plt.tight_layout()\n",
    "    plt.savefig(path, format = fig_extension, dpi = resolution)"
   ]
  },
  {
   "cell_type": "code",
   "execution_count": 4,
   "metadata": {},
   "outputs": [],
   "source": [
    "# Set up some plotting conveniences/settings\n",
    "import matplotlib as mpl\n",
    "import matplotlib.pyplot as plt\n",
    "mpl.rc('axes', labelsize=14)\n",
    "mpl.rc('xtick', labelsize=12)\n",
    "mpl.rc('ytick', labelsize=12)"
   ]
  },
  {
   "cell_type": "code",
   "execution_count": 5,
   "metadata": {},
   "outputs": [],
   "source": [
    "# Original data path\n",
    "DATA_PATH = os.path.join(PROJECT_ROOT_DIR, \"data/data.zip\")\n",
    "data = zipfile.ZipFile(DATA_PATH) \n",
    "# Site location path\n",
    "LAT_LON_PATH = os.path.join(PROJECT_ROOT_DIR, \"analyses/team04/mg/data/sep_site_outrigger_LATLON_updated.csv\")\n",
    "\n",
    "###########\n",
    "# Load data\n",
    "###########\n",
    "\n",
    "# Needle Data\n",
    "pp_sep_site_exchanges = pd.read_csv(data.open(r'data/pp_sep_site_exchanges.csv', pwd = b'*$1Y5.2,|sG$'))\n",
    "pp_sep_site_participants = pd.read_csv(data.open(r'data/pp_sep_site_participants.csv', pwd = b'*$1Y5.2,|sG$'))\n",
    "\n",
    "# Site location data\n",
    "lat_lon = pd.read_csv(LAT_LON_PATH)"
   ]
  },
  {
   "cell_type": "markdown",
   "metadata": {},
   "source": [
    "# Investigate SEP Site Exchange Data"
   ]
  },
  {
   "cell_type": "code",
   "execution_count": 6,
   "metadata": {
    "scrolled": false
   },
   "outputs": [
    {
     "data": {
      "text/html": [
       "<div>\n",
       "<style scoped>\n",
       "    .dataframe tbody tr th:only-of-type {\n",
       "        vertical-align: middle;\n",
       "    }\n",
       "\n",
       "    .dataframe tbody tr th {\n",
       "        vertical-align: top;\n",
       "    }\n",
       "\n",
       "    .dataframe thead th {\n",
       "        text-align: right;\n",
       "    }\n",
       "</style>\n",
       "<table border=\"1\" class=\"dataframe\">\n",
       "  <thead>\n",
       "    <tr style=\"text-align: right;\">\n",
       "      <th></th>\n",
       "      <th>site_id</th>\n",
       "      <th>visit_month</th>\n",
       "      <th>syringes_returned</th>\n",
       "      <th>syringes_dispensed</th>\n",
       "      <th>no_exchanging_for</th>\n",
       "    </tr>\n",
       "  </thead>\n",
       "  <tbody>\n",
       "    <tr>\n",
       "      <th>0</th>\n",
       "      <td>1.0</td>\n",
       "      <td>2019-01-01</td>\n",
       "      <td>5625</td>\n",
       "      <td>6175</td>\n",
       "      <td>48</td>\n",
       "    </tr>\n",
       "    <tr>\n",
       "      <th>1</th>\n",
       "      <td>1.0</td>\n",
       "      <td>2019-02-01</td>\n",
       "      <td>12700</td>\n",
       "      <td>13960</td>\n",
       "      <td>89</td>\n",
       "    </tr>\n",
       "    <tr>\n",
       "      <th>2</th>\n",
       "      <td>1.0</td>\n",
       "      <td>2019-03-01</td>\n",
       "      <td>8862</td>\n",
       "      <td>10470</td>\n",
       "      <td>76</td>\n",
       "    </tr>\n",
       "    <tr>\n",
       "      <th>3</th>\n",
       "      <td>1.0</td>\n",
       "      <td>2019-04-01</td>\n",
       "      <td>6130</td>\n",
       "      <td>7070</td>\n",
       "      <td>64</td>\n",
       "    </tr>\n",
       "    <tr>\n",
       "      <th>4</th>\n",
       "      <td>1.0</td>\n",
       "      <td>2019-05-01</td>\n",
       "      <td>9369</td>\n",
       "      <td>9830</td>\n",
       "      <td>66</td>\n",
       "    </tr>\n",
       "  </tbody>\n",
       "</table>\n",
       "</div>"
      ],
      "text/plain": [
       "   site_id visit_month  syringes_returned  syringes_dispensed  \\\n",
       "0      1.0  2019-01-01               5625                6175   \n",
       "1      1.0  2019-02-01              12700               13960   \n",
       "2      1.0  2019-03-01               8862               10470   \n",
       "3      1.0  2019-04-01               6130                7070   \n",
       "4      1.0  2019-05-01               9369                9830   \n",
       "\n",
       "   no_exchanging_for  \n",
       "0                 48  \n",
       "1                 89  \n",
       "2                 76  \n",
       "3                 64  \n",
       "4                 66  "
      ]
     },
     "execution_count": 6,
     "metadata": {},
     "output_type": "execute_result"
    }
   ],
   "source": [
    "pp_sep_site_exchanges.head(5)"
   ]
  },
  {
   "cell_type": "code",
   "execution_count": 7,
   "metadata": {},
   "outputs": [
    {
     "data": {
      "text/html": [
       "<div>\n",
       "<style scoped>\n",
       "    .dataframe tbody tr th:only-of-type {\n",
       "        vertical-align: middle;\n",
       "    }\n",
       "\n",
       "    .dataframe tbody tr th {\n",
       "        vertical-align: top;\n",
       "    }\n",
       "\n",
       "    .dataframe thead th {\n",
       "        text-align: right;\n",
       "    }\n",
       "</style>\n",
       "<table border=\"1\" class=\"dataframe\">\n",
       "  <thead>\n",
       "    <tr style=\"text-align: right;\">\n",
       "      <th></th>\n",
       "      <th>site_id</th>\n",
       "      <th>visit_month</th>\n",
       "      <th>count_distinct_participants</th>\n",
       "    </tr>\n",
       "  </thead>\n",
       "  <tbody>\n",
       "    <tr>\n",
       "      <th>0</th>\n",
       "      <td>1</td>\n",
       "      <td>2019-01-01</td>\n",
       "      <td>42</td>\n",
       "    </tr>\n",
       "    <tr>\n",
       "      <th>1</th>\n",
       "      <td>1</td>\n",
       "      <td>2019-10-01</td>\n",
       "      <td>51</td>\n",
       "    </tr>\n",
       "    <tr>\n",
       "      <th>2</th>\n",
       "      <td>1</td>\n",
       "      <td>2019-11-01</td>\n",
       "      <td>73</td>\n",
       "    </tr>\n",
       "    <tr>\n",
       "      <th>3</th>\n",
       "      <td>1</td>\n",
       "      <td>2019-12-01</td>\n",
       "      <td>54</td>\n",
       "    </tr>\n",
       "    <tr>\n",
       "      <th>4</th>\n",
       "      <td>1</td>\n",
       "      <td>2019-02-01</td>\n",
       "      <td>74</td>\n",
       "    </tr>\n",
       "  </tbody>\n",
       "</table>\n",
       "</div>"
      ],
      "text/plain": [
       "   site_id visit_month  count_distinct_participants\n",
       "0        1  2019-01-01                           42\n",
       "1        1  2019-10-01                           51\n",
       "2        1  2019-11-01                           73\n",
       "3        1  2019-12-01                           54\n",
       "4        1  2019-02-01                           74"
      ]
     },
     "execution_count": 7,
     "metadata": {},
     "output_type": "execute_result"
    }
   ],
   "source": [
    "pp_sep_site_participants.head(5)"
   ]
  },
  {
   "cell_type": "code",
   "execution_count": 8,
   "metadata": {},
   "outputs": [
    {
     "data": {
      "text/plain": [
       "site_id               float64\n",
       "visit_month            object\n",
       "syringes_returned       int64\n",
       "syringes_dispensed      int64\n",
       "no_exchanging_for       int64\n",
       "dtype: object"
      ]
     },
     "execution_count": 8,
     "metadata": {},
     "output_type": "execute_result"
    }
   ],
   "source": [
    "pp_sep_site_exchanges.dtypes"
   ]
  },
  {
   "cell_type": "code",
   "execution_count": 9,
   "metadata": {},
   "outputs": [],
   "source": [
    "# Change site_id dtype for merging\n",
    "pp_sep_site_participants[\"site_id\"] =pp_sep_site_participants[\"site_id\"].astype('float64')"
   ]
  },
  {
   "cell_type": "code",
   "execution_count": 10,
   "metadata": {},
   "outputs": [
    {
     "data": {
      "text/html": [
       "<div>\n",
       "<style scoped>\n",
       "    .dataframe tbody tr th:only-of-type {\n",
       "        vertical-align: middle;\n",
       "    }\n",
       "\n",
       "    .dataframe tbody tr th {\n",
       "        vertical-align: top;\n",
       "    }\n",
       "\n",
       "    .dataframe thead th {\n",
       "        text-align: right;\n",
       "    }\n",
       "</style>\n",
       "<table border=\"1\" class=\"dataframe\">\n",
       "  <thead>\n",
       "    <tr style=\"text-align: right;\">\n",
       "      <th></th>\n",
       "      <th>site_id</th>\n",
       "      <th>visit_month</th>\n",
       "      <th>count_distinct_participants</th>\n",
       "    </tr>\n",
       "  </thead>\n",
       "  <tbody>\n",
       "    <tr>\n",
       "      <th>0</th>\n",
       "      <td>1.0</td>\n",
       "      <td>2019-01-01</td>\n",
       "      <td>42</td>\n",
       "    </tr>\n",
       "    <tr>\n",
       "      <th>1</th>\n",
       "      <td>1.0</td>\n",
       "      <td>2019-10-01</td>\n",
       "      <td>51</td>\n",
       "    </tr>\n",
       "    <tr>\n",
       "      <th>2</th>\n",
       "      <td>1.0</td>\n",
       "      <td>2019-11-01</td>\n",
       "      <td>73</td>\n",
       "    </tr>\n",
       "    <tr>\n",
       "      <th>3</th>\n",
       "      <td>1.0</td>\n",
       "      <td>2019-12-01</td>\n",
       "      <td>54</td>\n",
       "    </tr>\n",
       "    <tr>\n",
       "      <th>4</th>\n",
       "      <td>1.0</td>\n",
       "      <td>2019-02-01</td>\n",
       "      <td>74</td>\n",
       "    </tr>\n",
       "  </tbody>\n",
       "</table>\n",
       "</div>"
      ],
      "text/plain": [
       "   site_id visit_month  count_distinct_participants\n",
       "0      1.0  2019-01-01                           42\n",
       "1      1.0  2019-10-01                           51\n",
       "2      1.0  2019-11-01                           73\n",
       "3      1.0  2019-12-01                           54\n",
       "4      1.0  2019-02-01                           74"
      ]
     },
     "execution_count": 10,
     "metadata": {},
     "output_type": "execute_result"
    }
   ],
   "source": [
    "pp_sep_site_participants.head(5)"
   ]
  },
  {
   "cell_type": "code",
   "execution_count": 11,
   "metadata": {},
   "outputs": [],
   "source": [
    "# Let's merge these two dataframes:\n",
    "pp_sep_site = pd.merge(pp_sep_site_exchanges, pp_sep_site_participants, how = 'inner', on =[\"site_id\", \"visit_month\"])"
   ]
  },
  {
   "cell_type": "code",
   "execution_count": 12,
   "metadata": {},
   "outputs": [
    {
     "data": {
      "text/html": [
       "<div>\n",
       "<style scoped>\n",
       "    .dataframe tbody tr th:only-of-type {\n",
       "        vertical-align: middle;\n",
       "    }\n",
       "\n",
       "    .dataframe tbody tr th {\n",
       "        vertical-align: top;\n",
       "    }\n",
       "\n",
       "    .dataframe thead th {\n",
       "        text-align: right;\n",
       "    }\n",
       "</style>\n",
       "<table border=\"1\" class=\"dataframe\">\n",
       "  <thead>\n",
       "    <tr style=\"text-align: right;\">\n",
       "      <th></th>\n",
       "      <th>site_id</th>\n",
       "      <th>visit_month</th>\n",
       "      <th>syringes_returned</th>\n",
       "      <th>syringes_dispensed</th>\n",
       "      <th>no_exchanging_for</th>\n",
       "      <th>count_distinct_participants</th>\n",
       "    </tr>\n",
       "  </thead>\n",
       "  <tbody>\n",
       "    <tr>\n",
       "      <th>0</th>\n",
       "      <td>1.0</td>\n",
       "      <td>2019-01-01</td>\n",
       "      <td>5625</td>\n",
       "      <td>6175</td>\n",
       "      <td>48</td>\n",
       "      <td>42</td>\n",
       "    </tr>\n",
       "    <tr>\n",
       "      <th>1</th>\n",
       "      <td>1.0</td>\n",
       "      <td>2019-02-01</td>\n",
       "      <td>12700</td>\n",
       "      <td>13960</td>\n",
       "      <td>89</td>\n",
       "      <td>74</td>\n",
       "    </tr>\n",
       "    <tr>\n",
       "      <th>2</th>\n",
       "      <td>1.0</td>\n",
       "      <td>2019-03-01</td>\n",
       "      <td>8862</td>\n",
       "      <td>10470</td>\n",
       "      <td>76</td>\n",
       "      <td>61</td>\n",
       "    </tr>\n",
       "    <tr>\n",
       "      <th>3</th>\n",
       "      <td>1.0</td>\n",
       "      <td>2019-04-01</td>\n",
       "      <td>6130</td>\n",
       "      <td>7070</td>\n",
       "      <td>64</td>\n",
       "      <td>49</td>\n",
       "    </tr>\n",
       "    <tr>\n",
       "      <th>4</th>\n",
       "      <td>1.0</td>\n",
       "      <td>2019-05-01</td>\n",
       "      <td>9369</td>\n",
       "      <td>9830</td>\n",
       "      <td>66</td>\n",
       "      <td>57</td>\n",
       "    </tr>\n",
       "  </tbody>\n",
       "</table>\n",
       "</div>"
      ],
      "text/plain": [
       "   site_id visit_month  syringes_returned  syringes_dispensed  \\\n",
       "0      1.0  2019-01-01               5625                6175   \n",
       "1      1.0  2019-02-01              12700               13960   \n",
       "2      1.0  2019-03-01               8862               10470   \n",
       "3      1.0  2019-04-01               6130                7070   \n",
       "4      1.0  2019-05-01               9369                9830   \n",
       "\n",
       "   no_exchanging_for  count_distinct_participants  \n",
       "0                 48                           42  \n",
       "1                 89                           74  \n",
       "2                 76                           61  \n",
       "3                 64                           49  \n",
       "4                 66                           57  "
      ]
     },
     "execution_count": 12,
     "metadata": {},
     "output_type": "execute_result"
    }
   ],
   "source": [
    "pp_sep_site.head(5)"
   ]
  },
  {
   "cell_type": "code",
   "execution_count": 13,
   "metadata": {},
   "outputs": [
    {
     "data": {
      "text/plain": [
       "array([ 1.,  2.,  3.,  4.,  5.,  6.,  7.,  8.,  9., 10., 11., 12., 13.,\n",
       "       17., 18., 22., 99.])"
      ]
     },
     "execution_count": 13,
     "metadata": {},
     "output_type": "execute_result"
    }
   ],
   "source": [
    "pp_sep_site[\"site_id\"].unique()"
   ]
  },
  {
   "cell_type": "code",
   "execution_count": 14,
   "metadata": {},
   "outputs": [
    {
     "data": {
      "text/plain": [
       "array(['2019-01-01', '2019-02-01', '2019-03-01', '2019-04-01',\n",
       "       '2019-05-01', '2019-06-01', '2019-08-01', '2019-09-01',\n",
       "       '2019-10-01', '2019-11-01', '2019-12-01', '2019-07-01'],\n",
       "      dtype=object)"
      ]
     },
     "execution_count": 14,
     "metadata": {},
     "output_type": "execute_result"
    }
   ],
   "source": [
    "pp_sep_site[\"visit_month\"].unique()"
   ]
  },
  {
   "cell_type": "code",
   "execution_count": 15,
   "metadata": {},
   "outputs": [],
   "source": [
    "# Convert dates into datetime format\n",
    "pp_sep_site[\"visit_month\"] = pd.to_datetime(pp_sep_site[\"visit_month\"])"
   ]
  },
  {
   "cell_type": "code",
   "execution_count": 65,
   "metadata": {},
   "outputs": [],
   "source": [
    "# Definition to plot time series by site_id (if localized =True)\n",
    "# or to plot time series aggregated over all sites (if localized=False)\n",
    "\n",
    "\n",
    "# Provide features and dates as list:\n",
    "def sep_site_time_series(df, site_id, features, localized = True):\n",
    "    if localized:\n",
    "        dates = df.loc[df[\"site_id\"]==site_id,[\"visit_month\"]]\n",
    "        fig, ax = plt.subplots(figsize=(10,4))\n",
    "        color_code_it = 0\n",
    "        color_code_list = [\"lightblue\", 'orange', 'red', 'yellow', 'green']\n",
    "        for feature in features:\n",
    "            ax.plot(dates, df.loc[df[\"site_id\"]==site_id,[feature] ],color = color_code_list[color_code_it],label =f'{feature}')\n",
    "            color_code_it +=1\n",
    "        # Add labels\n",
    "        ax.set_ylabel('Value')\n",
    "        ax.set_xlabel('Month')\n",
    "        ax.set_title(f'SEP site time series site {site_id}')\n",
    "        ax.legend()\n",
    "    else:\n",
    "        grouped = df.groupby(['visit_month'], as_index = False).sum()\n",
    "        dates = grouped[\"visit_month\"]\n",
    "        fig, ax = plt.subplots(figsize=(10,4))\n",
    "        color_code_it = 0\n",
    "        color_code_list = [\"lightblue\", 'orange', 'red', 'yellow', 'green']\n",
    "        for feature in features:\n",
    "            ax.plot(dates, grouped[feature],color = color_code_list[color_code_it],label =f'{feature}')\n",
    "            color_code_it +=1   \n",
    "        # Add labels\n",
    "        ax.set_ylabel('Value')\n",
    "        ax.set_xlabel('Month')\n",
    "        ax.set_title(' Aggregated SEP site time series')\n",
    "        ax.legend()\n"
   ]
  },
  {
   "cell_type": "code",
   "execution_count": 66,
   "metadata": {
    "scrolled": true
   },
   "outputs": [
    {
     "name": "stdout",
     "output_type": "stream",
     "text": [
      "Saving figure Site 1 Time Series\n"
     ]
    },
    {
     "data": {
      "image/png": "[encoded data removed]",
      "text/plain": [
       "<Figure size 720x288 with 1 Axes>"
      ]
     },
     "metadata": {
      "needs_background": "light"
     },
     "output_type": "display_data"
    }
   ],
   "source": [
    "from pandas.plotting import register_matplotlib_converters\n",
    "register_matplotlib_converters()\n",
    "\n",
    "# Plot syringes returned and dispensed at site 1\n",
    "features = [\"syringes_returned\", \"syringes_dispensed\"]\n",
    "sep_site_time_series(pp_sep_site, 1.,features)\n",
    "save_fig(\"Site 1 Time Series\")"
   ]
  },
  {
   "cell_type": "code",
   "execution_count": 67,
   "metadata": {
    "scrolled": true
   },
   "outputs": [
    {
     "name": "stdout",
     "output_type": "stream",
     "text": [
      "Saving figure Aggregated Sites Time Series\n"
     ]
    },
    {
     "data": {
      "image/png": "[encoded data removed]",
      "text/plain": [
       "<Figure size 720x288 with 1 Axes>"
      ]
     },
     "metadata": {
      "needs_background": "light"
     },
     "output_type": "display_data"
    }
   ],
   "source": [
    "# Plot count of individuals and number exchanging for over all sites\n",
    "features = [\"no_exchanging_for\", \"count_distinct_participants\"]\n",
    "sep_site_time_series(pp_sep_site, 6.,features, localized = False)\n",
    "save_fig(\"Aggregated Sites Time Series\")"
   ]
  },
  {
   "cell_type": "code",
   "execution_count": 68,
   "metadata": {
    "scrolled": true
   },
   "outputs": [
    {
     "name": "stdout",
     "output_type": "stream",
     "text": [
      "Saving figure Aggregated Sites Time Series 2\n"
     ]
    },
    {
     "data": {
      "image/png": "[encoded data removed]",
      "text/plain": [
       "<Figure size 720x288 with 1 Axes>"
      ]
     },
     "metadata": {
      "needs_background": "light"
     },
     "output_type": "display_data"
    }
   ],
   "source": [
    "# Plot count of syringes returned and syringes dispensed over all sites\n",
    "features = [\"syringes_returned\", \"syringes_dispensed\"]\n",
    "sep_site_time_series(pp_sep_site, 6.,features, localized = False)\n",
    "save_fig(\"Aggregated Sites Time Series 2\")"
   ]
  },
  {
   "cell_type": "markdown",
   "metadata": {},
   "source": [
    "Question: What happened in in July, 2019? Is the data innaccurate, or did activity really decline heavily? If the latter, can we predict such events, and would doing so be useful?"
   ]
  },
  {
   "cell_type": "markdown",
   "metadata": {},
   "source": [
    "## Some possible models for syringe use population estimates, and SEP demand forecast"
   ]
  },
  {
   "cell_type": "code",
   "execution_count": 70,
   "metadata": {},
   "outputs": [
    {
     "data": {
      "text/html": [
       "<div>\n",
       "<style scoped>\n",
       "    .dataframe tbody tr th:only-of-type {\n",
       "        vertical-align: middle;\n",
       "    }\n",
       "\n",
       "    .dataframe tbody tr th {\n",
       "        vertical-align: top;\n",
       "    }\n",
       "\n",
       "    .dataframe thead th {\n",
       "        text-align: right;\n",
       "    }\n",
       "</style>\n",
       "<table border=\"1\" class=\"dataframe\">\n",
       "  <thead>\n",
       "    <tr style=\"text-align: right;\">\n",
       "      <th></th>\n",
       "      <th>site_id</th>\n",
       "      <th>site_name</th>\n",
       "      <th>site_location</th>\n",
       "      <th>address</th>\n",
       "      <th>Lat</th>\n",
       "      <th>Lon</th>\n",
       "      <th>description</th>\n",
       "      <th>geometry</th>\n",
       "    </tr>\n",
       "  </thead>\n",
       "  <tbody>\n",
       "    <tr>\n",
       "      <th>0</th>\n",
       "      <td>1</td>\n",
       "      <td>Mobile</td>\n",
       "      <td>3rd @ Girard</td>\n",
       "      <td>NaN</td>\n",
       "      <td>39.969770</td>\n",
       "      <td>-75.141520</td>\n",
       "      <td>Mobile Site</td>\n",
       "      <td>POINT (-75.14152 39.96977)</td>\n",
       "    </tr>\n",
       "    <tr>\n",
       "      <th>1</th>\n",
       "      <td>2</td>\n",
       "      <td>Mobile</td>\n",
       "      <td>10th @ Fairmount</td>\n",
       "      <td>NaN</td>\n",
       "      <td>39.965370</td>\n",
       "      <td>-75.154100</td>\n",
       "      <td>Mobile Site</td>\n",
       "      <td>POINT (-75.1541 39.96537)</td>\n",
       "    </tr>\n",
       "    <tr>\n",
       "      <th>2</th>\n",
       "      <td>3</td>\n",
       "      <td>Mobile</td>\n",
       "      <td>11th @ Indiana</td>\n",
       "      <td>NaN</td>\n",
       "      <td>39.997810</td>\n",
       "      <td>-75.148240</td>\n",
       "      <td>Mobile Site</td>\n",
       "      <td>POINT (-75.14824 39.99781)</td>\n",
       "    </tr>\n",
       "    <tr>\n",
       "      <th>3</th>\n",
       "      <td>4</td>\n",
       "      <td>Mobile</td>\n",
       "      <td>13th @ Washington</td>\n",
       "      <td>NaN</td>\n",
       "      <td>39.937610</td>\n",
       "      <td>-75.164590</td>\n",
       "      <td>Mobile Site</td>\n",
       "      <td>POINT (-75.16459 39.93761)</td>\n",
       "    </tr>\n",
       "    <tr>\n",
       "      <th>4</th>\n",
       "      <td>5</td>\n",
       "      <td>Headquarters - Friday</td>\n",
       "      <td>2913-15 Kensington Ave</td>\n",
       "      <td>2913-15 Kensington Ave</td>\n",
       "      <td>39.992885</td>\n",
       "      <td>-75.119643</td>\n",
       "      <td>In Building Exchange</td>\n",
       "      <td>POINT (-75.119643 39.992885)</td>\n",
       "    </tr>\n",
       "  </tbody>\n",
       "</table>\n",
       "</div>"
      ],
      "text/plain": [
       "   site_id              site_name           site_location  \\\n",
       "0        1                 Mobile            3rd @ Girard   \n",
       "1        2                 Mobile        10th @ Fairmount   \n",
       "2        3                 Mobile          11th @ Indiana   \n",
       "3        4                 Mobile       13th @ Washington   \n",
       "4        5  Headquarters - Friday  2913-15 Kensington Ave   \n",
       "\n",
       "                  address        Lat        Lon           description  \\\n",
       "0                     NaN  39.969770 -75.141520           Mobile Site   \n",
       "1                     NaN  39.965370 -75.154100          Mobile Site    \n",
       "2                     NaN  39.997810 -75.148240           Mobile Site   \n",
       "3                     NaN  39.937610 -75.164590           Mobile Site   \n",
       "4  2913-15 Kensington Ave  39.992885 -75.119643  In Building Exchange   \n",
       "\n",
       "                       geometry  \n",
       "0    POINT (-75.14152 39.96977)  \n",
       "1     POINT (-75.1541 39.96537)  \n",
       "2    POINT (-75.14824 39.99781)  \n",
       "3    POINT (-75.16459 39.93761)  \n",
       "4  POINT (-75.119643 39.992885)  "
      ]
     },
     "execution_count": 70,
     "metadata": {},
     "output_type": "execute_result"
    }
   ],
   "source": [
    "lat_lon.head()"
   ]
  },
  {
   "cell_type": "code",
   "execution_count": 72,
   "metadata": {
    "scrolled": true
   },
   "outputs": [
    {
     "data": {
      "text/html": [
       "<div>\n",
       "<style scoped>\n",
       "    .dataframe tbody tr th:only-of-type {\n",
       "        vertical-align: middle;\n",
       "    }\n",
       "\n",
       "    .dataframe tbody tr th {\n",
       "        vertical-align: top;\n",
       "    }\n",
       "\n",
       "    .dataframe thead th {\n",
       "        text-align: right;\n",
       "    }\n",
       "</style>\n",
       "<table border=\"1\" class=\"dataframe\">\n",
       "  <thead>\n",
       "    <tr style=\"text-align: right;\">\n",
       "      <th></th>\n",
       "      <th>participant_zip</th>\n",
       "      <th>avg_outcome_ems</th>\n",
       "      <th>avg_outcome_police</th>\n",
       "      <th>avg_outcome_ed</th>\n",
       "      <th>avg_outcome_death</th>\n",
       "      <th>avg_outcome_unk</th>\n",
       "      <th>avg_outcome_ok</th>\n",
       "      <th>avg_od_drug_heroin</th>\n",
       "      <th>avg_od_drug_cocaine</th>\n",
       "      <th>avg_od_drug_fentanyl</th>\n",
       "      <th>avg_od_drug_unknown</th>\n",
       "      <th>avg_od_drug_other</th>\n",
       "      <th>avg_od_present_breath</th>\n",
       "      <th>avg_od_present_unresponsive</th>\n",
       "      <th>avg_od_present_coloring</th>\n",
       "      <th>avg_od_present_other</th>\n",
       "      <th>avg_cpr_used</th>\n",
       "      <th>n_observations</th>\n",
       "    </tr>\n",
       "  </thead>\n",
       "  <tbody>\n",
       "    <tr>\n",
       "      <th>0</th>\n",
       "      <td>19111.0</td>\n",
       "      <td>0.366667</td>\n",
       "      <td>0.150000</td>\n",
       "      <td>0.200000</td>\n",
       "      <td>0.000000</td>\n",
       "      <td>0.150000</td>\n",
       "      <td>0.700000</td>\n",
       "      <td>0.517241</td>\n",
       "      <td>0.068966</td>\n",
       "      <td>0.310345</td>\n",
       "      <td>0.241379</td>\n",
       "      <td>0.161290</td>\n",
       "      <td>0.642857</td>\n",
       "      <td>0.750000</td>\n",
       "      <td>0.678571</td>\n",
       "      <td>0.000000</td>\n",
       "      <td>0.600000</td>\n",
       "      <td>31</td>\n",
       "    </tr>\n",
       "    <tr>\n",
       "      <th>1</th>\n",
       "      <td>19120.0</td>\n",
       "      <td>0.318182</td>\n",
       "      <td>0.210526</td>\n",
       "      <td>0.052632</td>\n",
       "      <td>0.000000</td>\n",
       "      <td>0.052632</td>\n",
       "      <td>0.526316</td>\n",
       "      <td>0.695652</td>\n",
       "      <td>0.130435</td>\n",
       "      <td>0.652174</td>\n",
       "      <td>0.000000</td>\n",
       "      <td>0.000000</td>\n",
       "      <td>0.304348</td>\n",
       "      <td>0.565217</td>\n",
       "      <td>0.478261</td>\n",
       "      <td>0.043478</td>\n",
       "      <td>0.428571</td>\n",
       "      <td>26</td>\n",
       "    </tr>\n",
       "    <tr>\n",
       "      <th>2</th>\n",
       "      <td>19122.0</td>\n",
       "      <td>0.187500</td>\n",
       "      <td>0.115385</td>\n",
       "      <td>0.000000</td>\n",
       "      <td>0.000000</td>\n",
       "      <td>0.076923</td>\n",
       "      <td>0.769231</td>\n",
       "      <td>0.366667</td>\n",
       "      <td>0.033333</td>\n",
       "      <td>0.366667</td>\n",
       "      <td>0.266667</td>\n",
       "      <td>0.093750</td>\n",
       "      <td>0.387097</td>\n",
       "      <td>0.419355</td>\n",
       "      <td>0.322581</td>\n",
       "      <td>0.225806</td>\n",
       "      <td>0.333333</td>\n",
       "      <td>36</td>\n",
       "    </tr>\n",
       "    <tr>\n",
       "      <th>3</th>\n",
       "      <td>19124.0</td>\n",
       "      <td>0.358209</td>\n",
       "      <td>0.176471</td>\n",
       "      <td>0.125000</td>\n",
       "      <td>0.026144</td>\n",
       "      <td>0.071895</td>\n",
       "      <td>0.581699</td>\n",
       "      <td>0.820513</td>\n",
       "      <td>0.200000</td>\n",
       "      <td>0.528205</td>\n",
       "      <td>0.061538</td>\n",
       "      <td>0.088235</td>\n",
       "      <td>0.438144</td>\n",
       "      <td>0.541237</td>\n",
       "      <td>0.556701</td>\n",
       "      <td>0.030928</td>\n",
       "      <td>0.453333</td>\n",
       "      <td>219</td>\n",
       "    </tr>\n",
       "    <tr>\n",
       "      <th>4</th>\n",
       "      <td>19125.0</td>\n",
       "      <td>0.206186</td>\n",
       "      <td>0.115942</td>\n",
       "      <td>0.072464</td>\n",
       "      <td>0.043478</td>\n",
       "      <td>0.202899</td>\n",
       "      <td>0.608696</td>\n",
       "      <td>0.648352</td>\n",
       "      <td>0.109890</td>\n",
       "      <td>0.494505</td>\n",
       "      <td>0.098901</td>\n",
       "      <td>0.140000</td>\n",
       "      <td>0.377778</td>\n",
       "      <td>0.511111</td>\n",
       "      <td>0.555556</td>\n",
       "      <td>0.011236</td>\n",
       "      <td>0.419355</td>\n",
       "      <td>102</td>\n",
       "    </tr>\n",
       "  </tbody>\n",
       "</table>\n",
       "</div>"
      ],
      "text/plain": [
       "   participant_zip  avg_outcome_ems  avg_outcome_police  avg_outcome_ed  \\\n",
       "0          19111.0         0.366667            0.150000        0.200000   \n",
       "1          19120.0         0.318182            0.210526        0.052632   \n",
       "2          19122.0         0.187500            0.115385        0.000000   \n",
       "3          19124.0         0.358209            0.176471        0.125000   \n",
       "4          19125.0         0.206186            0.115942        0.072464   \n",
       "\n",
       "   avg_outcome_death  avg_outcome_unk  avg_outcome_ok  avg_od_drug_heroin  \\\n",
       "0           0.000000         0.150000        0.700000            0.517241   \n",
       "1           0.000000         0.052632        0.526316            0.695652   \n",
       "2           0.000000         0.076923        0.769231            0.366667   \n",
       "3           0.026144         0.071895        0.581699            0.820513   \n",
       "4           0.043478         0.202899        0.608696            0.648352   \n",
       "\n",
       "   avg_od_drug_cocaine  avg_od_drug_fentanyl  avg_od_drug_unknown  \\\n",
       "0             0.068966              0.310345             0.241379   \n",
       "1             0.130435              0.652174             0.000000   \n",
       "2             0.033333              0.366667             0.266667   \n",
       "3             0.200000              0.528205             0.061538   \n",
       "4             0.109890              0.494505             0.098901   \n",
       "\n",
       "   avg_od_drug_other  avg_od_present_breath  avg_od_present_unresponsive  \\\n",
       "0           0.161290               0.642857                     0.750000   \n",
       "1           0.000000               0.304348                     0.565217   \n",
       "2           0.093750               0.387097                     0.419355   \n",
       "3           0.088235               0.438144                     0.541237   \n",
       "4           0.140000               0.377778                     0.511111   \n",
       "\n",
       "   avg_od_present_coloring  avg_od_present_other  avg_cpr_used  n_observations  \n",
       "0                 0.678571              0.000000      0.600000              31  \n",
       "1                 0.478261              0.043478      0.428571              26  \n",
       "2                 0.322581              0.225806      0.333333              36  \n",
       "3                 0.556701              0.030928      0.453333             219  \n",
       "4                 0.555556              0.011236      0.419355             102  "
      ]
     },
     "execution_count": 72,
     "metadata": {},
     "output_type": "execute_result"
    }
   ],
   "source": [
    "pp_zipcode_metrics = pd.read_csv(data.open(r'data/pp_refill_zipcode_metrics.csv', pwd = b'*$1Y5.2,|sG$'))\n",
    "pp_zipcode_metrics.head()"
   ]
  },
  {
   "cell_type": "code",
   "execution_count": 74,
   "metadata": {},
   "outputs": [
    {
     "data": {
      "text/plain": [
       "['data/',\n",
       " 'data/hf_samsha_providers.csv',\n",
       " 'data/pp_refill_events.csv',\n",
       " 'data/pp_sep_site_exchanges.csv',\n",
       " 'data/dph_od_resident_counts.csv',\n",
       " 'data/.DS_Store',\n",
       " 'data/hf_physician_locator.csv',\n",
       " 'data/dph_dash_ems_naloxone_zip.csv',\n",
       " 'data/pp_refill_zipcode_metrics.csv',\n",
       " 'data/dph_dash_n_ed_transfers.csv',\n",
       " 'data/dph_dash_ems_naloxone_sex.csv',\n",
       " 'data/pp_sep_site_participants.csv',\n",
       " 'data/dph_dash_n_naloxone_admins.csv',\n",
       " 'data/dph_od_incident_counts.csv',\n",
       " 'data/dph_dash_ems_naloxone_age.csv',\n",
       " 'data/hf_samsha_programs.csv']"
      ]
     },
     "execution_count": 74,
     "metadata": {},
     "output_type": "execute_result"
    }
   ],
   "source": [
    "data.namelist()"
   ]
  },
  {
   "cell_type": "code",
   "execution_count": 86,
   "metadata": {},
   "outputs": [
    {
     "data": {
      "text/html": [
       "<div>\n",
       "<style scoped>\n",
       "    .dataframe tbody tr th:only-of-type {\n",
       "        vertical-align: middle;\n",
       "    }\n",
       "\n",
       "    .dataframe tbody tr th {\n",
       "        vertical-align: top;\n",
       "    }\n",
       "\n",
       "    .dataframe thead th {\n",
       "        text-align: right;\n",
       "    }\n",
       "</style>\n",
       "<table border=\"1\" class=\"dataframe\">\n",
       "  <thead>\n",
       "    <tr style=\"text-align: right;\">\n",
       "      <th></th>\n",
       "      <th>ZIPCODE</th>\n",
       "      <th>X2014Q1</th>\n",
       "      <th>X2014Q2</th>\n",
       "      <th>X2014Q3</th>\n",
       "      <th>X2014Q4</th>\n",
       "      <th>X2015Q1</th>\n",
       "      <th>X2015Q2</th>\n",
       "      <th>X2015Q3</th>\n",
       "      <th>X2015Q4</th>\n",
       "      <th>X2016Q1</th>\n",
       "      <th>...</th>\n",
       "      <th>X2016Q3</th>\n",
       "      <th>X2016Q4</th>\n",
       "      <th>X2017Q1</th>\n",
       "      <th>X2017Q2</th>\n",
       "      <th>X2017Q3</th>\n",
       "      <th>X2017Q4</th>\n",
       "      <th>X2018Q1</th>\n",
       "      <th>X2018Q2</th>\n",
       "      <th>X2018Q3</th>\n",
       "      <th>X2018Q4</th>\n",
       "    </tr>\n",
       "  </thead>\n",
       "  <tbody>\n",
       "    <tr>\n",
       "      <th>0</th>\n",
       "      <td>19102</td>\n",
       "      <td>0</td>\n",
       "      <td>0</td>\n",
       "      <td>0</td>\n",
       "      <td>0</td>\n",
       "      <td>0</td>\n",
       "      <td>0</td>\n",
       "      <td>&lt;6</td>\n",
       "      <td>0</td>\n",
       "      <td>&lt;6</td>\n",
       "      <td>...</td>\n",
       "      <td>0</td>\n",
       "      <td>&lt;6</td>\n",
       "      <td>&lt;6</td>\n",
       "      <td>0</td>\n",
       "      <td>&lt;6</td>\n",
       "      <td>&lt;6</td>\n",
       "      <td>0</td>\n",
       "      <td>&lt;6</td>\n",
       "      <td>&lt;6</td>\n",
       "      <td>0</td>\n",
       "    </tr>\n",
       "    <tr>\n",
       "      <th>1</th>\n",
       "      <td>19103</td>\n",
       "      <td>&lt;6</td>\n",
       "      <td>0</td>\n",
       "      <td>&lt;6</td>\n",
       "      <td>0</td>\n",
       "      <td>0</td>\n",
       "      <td>0</td>\n",
       "      <td>0</td>\n",
       "      <td>0</td>\n",
       "      <td>0</td>\n",
       "      <td>...</td>\n",
       "      <td>&lt;6</td>\n",
       "      <td>&lt;6</td>\n",
       "      <td>&lt;6</td>\n",
       "      <td>&lt;6</td>\n",
       "      <td>&lt;6</td>\n",
       "      <td>0</td>\n",
       "      <td>&lt;6</td>\n",
       "      <td>&lt;6</td>\n",
       "      <td>&lt;6</td>\n",
       "      <td>&lt;6</td>\n",
       "    </tr>\n",
       "    <tr>\n",
       "      <th>2</th>\n",
       "      <td>19104</td>\n",
       "      <td>&lt;6</td>\n",
       "      <td>&lt;6</td>\n",
       "      <td>&lt;6</td>\n",
       "      <td>6</td>\n",
       "      <td>6</td>\n",
       "      <td>6</td>\n",
       "      <td>&lt;6</td>\n",
       "      <td>&lt;6</td>\n",
       "      <td>&lt;6</td>\n",
       "      <td>...</td>\n",
       "      <td>&lt;6</td>\n",
       "      <td>6</td>\n",
       "      <td>&lt;6</td>\n",
       "      <td>6</td>\n",
       "      <td>9</td>\n",
       "      <td>8</td>\n",
       "      <td>&lt;6</td>\n",
       "      <td>7</td>\n",
       "      <td>&lt;6</td>\n",
       "      <td>8</td>\n",
       "    </tr>\n",
       "    <tr>\n",
       "      <th>3</th>\n",
       "      <td>19106</td>\n",
       "      <td>0</td>\n",
       "      <td>0</td>\n",
       "      <td>&lt;6</td>\n",
       "      <td>&lt;6</td>\n",
       "      <td>&lt;6</td>\n",
       "      <td>0</td>\n",
       "      <td>0</td>\n",
       "      <td>&lt;6</td>\n",
       "      <td>&lt;6</td>\n",
       "      <td>...</td>\n",
       "      <td>&lt;6</td>\n",
       "      <td>&lt;6</td>\n",
       "      <td>&lt;6</td>\n",
       "      <td>&lt;6</td>\n",
       "      <td>&lt;6</td>\n",
       "      <td>&lt;6</td>\n",
       "      <td>&lt;6</td>\n",
       "      <td>&lt;6</td>\n",
       "      <td>&lt;6</td>\n",
       "      <td>&lt;6</td>\n",
       "    </tr>\n",
       "    <tr>\n",
       "      <th>4</th>\n",
       "      <td>19107</td>\n",
       "      <td>&lt;6</td>\n",
       "      <td>&lt;6</td>\n",
       "      <td>&lt;6</td>\n",
       "      <td>&lt;6</td>\n",
       "      <td>&lt;6</td>\n",
       "      <td>&lt;6</td>\n",
       "      <td>0</td>\n",
       "      <td>&lt;6</td>\n",
       "      <td>6</td>\n",
       "      <td>...</td>\n",
       "      <td>&lt;6</td>\n",
       "      <td>&lt;6</td>\n",
       "      <td>&lt;6</td>\n",
       "      <td>&lt;6</td>\n",
       "      <td>&lt;6</td>\n",
       "      <td>&lt;6</td>\n",
       "      <td>&lt;6</td>\n",
       "      <td>&lt;6</td>\n",
       "      <td>&lt;6</td>\n",
       "      <td>6</td>\n",
       "    </tr>\n",
       "  </tbody>\n",
       "</table>\n",
       "<p>5 rows × 21 columns</p>\n",
       "</div>"
      ],
      "text/plain": [
       "  ZIPCODE X2014Q1 X2014Q2 X2014Q3 X2014Q4 X2015Q1 X2015Q2 X2015Q3 X2015Q4  \\\n",
       "0   19102       0       0       0       0       0       0      <6       0   \n",
       "1   19103      <6       0      <6       0       0       0       0       0   \n",
       "2   19104      <6      <6      <6       6       6       6      <6      <6   \n",
       "3   19106       0       0      <6      <6      <6       0       0      <6   \n",
       "4   19107      <6      <6      <6      <6      <6      <6       0      <6   \n",
       "\n",
       "  X2016Q1  ... X2016Q3 X2016Q4 X2017Q1 X2017Q2 X2017Q3 X2017Q4 X2018Q1  \\\n",
       "0      <6  ...       0      <6      <6       0      <6      <6       0   \n",
       "1       0  ...      <6      <6      <6      <6      <6       0      <6   \n",
       "2      <6  ...      <6       6      <6       6       9       8      <6   \n",
       "3      <6  ...      <6      <6      <6      <6      <6      <6      <6   \n",
       "4       6  ...      <6      <6      <6      <6      <6      <6      <6   \n",
       "\n",
       "  X2018Q2 X2018Q3 X2018Q4  \n",
       "0      <6      <6       0  \n",
       "1      <6      <6      <6  \n",
       "2       7      <6       8  \n",
       "3      <6      <6      <6  \n",
       "4      <6      <6       6  \n",
       "\n",
       "[5 rows x 21 columns]"
      ]
     },
     "execution_count": 86,
     "metadata": {},
     "output_type": "execute_result"
    }
   ],
   "source": [
    "od_incident_counts = pd.read_csv(data.open(r'data/dph_od_incident_counts.csv', pwd = b'*$1Y5.2,|sG$'))\n",
    "od_incident_counts.head()"
   ]
  },
  {
   "cell_type": "code",
   "execution_count": null,
   "metadata": {},
   "outputs": [],
   "source": []
  }
 ],
 "metadata": {
  "kernelspec": {
   "display_name": "Python [conda env:DataScienceEnvironment] *",
   "language": "python",
   "name": "conda-env-DataScienceEnvironment-py"
  },
  "language_info": {
   "codemirror_mode": {
    "name": "ipython",
    "version": 3
   },
   "file_extension": ".py",
   "mimetype": "text/x-python",
   "name": "python",
   "nbconvert_exporter": "python",
   "pygments_lexer": "ipython3",
   "version": "3.7.4"
  }
 },
 "nbformat": 4,
 "nbformat_minor": 2
}
