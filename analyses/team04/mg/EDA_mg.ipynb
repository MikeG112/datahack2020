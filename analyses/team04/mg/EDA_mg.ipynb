{
 "cells": [
  {
   "cell_type": "markdown",
   "metadata": {},
   "source": [
    "# Setup"
   ]
  },
  {
   "cell_type": "code",
   "execution_count": 2,
   "metadata": {},
   "outputs": [],
   "source": [
    "import numpy as np\n",
    "import sklearn\n",
    "import pandas as pd\n",
    "import os\n",
    "import zipfile"
   ]
  },
  {
   "cell_type": "code",
   "execution_count": 3,
   "metadata": {},
   "outputs": [
    {
     "data": {
      "text/plain": [
       "'C:\\\\Users\\\\Mike\\\\DataScienceProjects\\\\datahack2020\\\\datahack2020\\\\analyses\\\\team04\\\\mg'"
      ]
     },
     "execution_count": 3,
     "metadata": {},
     "output_type": "execute_result"
    }
   ],
   "source": [
    "os.path.abspath('.')"
   ]
  },
  {
   "cell_type": "code",
   "execution_count": 4,
   "metadata": {},
   "outputs": [],
   "source": [
    "# Set up some directory info, and figure export path\n",
    "PROJECT_ROOT_DIR = '../../../'\n",
    "NOTEBOOK_ID = 'EDA_mg'\n",
    "FIGURE_EXPORT_PATH = os.path.join(PROJECT_ROOT_DIR, \"analyses/team04/mg/figures\", NOTEBOOK_ID)\n",
    "os.makedirs(FIGURE_EXPORT_PATH, exist_ok = True)"
   ]
  },
  {
   "cell_type": "code",
   "execution_count": 5,
   "metadata": {},
   "outputs": [],
   "source": [
    "# Define figure export\n",
    "def save_fig(fig_id, tight_layout=True, fig_extension = \"png\", resolution = 300):\n",
    "    path = os.path.join(FIGURE_EXPORT_PATH, fig_id + '.' + fig_extension)\n",
    "    print(\"Saving figure\", fig_id)\n",
    "    if tight_layout:\n",
    "        plt.tight_layout()\n",
    "    plt.savefig(path, format = fig_extension, dpi = resolution)"
   ]
  },
  {
   "cell_type": "code",
   "execution_count": 6,
   "metadata": {},
   "outputs": [],
   "source": [
    "# Set up some plotting conveniences/settings\n",
    "import matplotlib as mpl\n",
    "import matplotlib.pyplot as plt\n",
    "mpl.rc('axes', labelsize=14)\n",
    "mpl.rc('xtick', labelsize=12)\n",
    "mpl.rc('ytick', labelsize=12)"
   ]
  },
  {
   "cell_type": "code",
   "execution_count": 7,
   "metadata": {},
   "outputs": [
    {
     "data": {
      "text/plain": [
       "['data/',\n",
       " 'data/hf_samsha_providers.csv',\n",
       " 'data/pp_refill_events.csv',\n",
       " 'data/pp_sep_site_exchanges.csv',\n",
       " 'data/dph_od_resident_counts.csv',\n",
       " 'data/.DS_Store',\n",
       " 'data/hf_physician_locator.csv',\n",
       " 'data/dph_dash_ems_naloxone_zip.csv',\n",
       " 'data/pp_refill_zipcode_metrics.csv',\n",
       " 'data/dph_dash_n_ed_transfers.csv',\n",
       " 'data/dph_dash_ems_naloxone_sex.csv',\n",
       " 'data/pp_sep_site_participants.csv',\n",
       " 'data/dph_dash_n_naloxone_admins.csv',\n",
       " 'data/dph_od_incident_counts.csv',\n",
       " 'data/dph_dash_ems_naloxone_age.csv',\n",
       " 'data/hf_samsha_programs.csv']"
      ]
     },
     "execution_count": 7,
     "metadata": {},
     "output_type": "execute_result"
    }
   ],
   "source": [
    "# Investigate Files\n",
    "DATA_PATH = os.path.join(PROJECT_ROOT_DIR, \"data/data.zip\")\n",
    "data = zipfile.ZipFile(DATA_PATH)    \n",
    "# List all data files:\n",
    "data.namelist()"
   ]
  },
  {
   "cell_type": "code",
   "execution_count": 8,
   "metadata": {},
   "outputs": [],
   "source": [
    "# load data\n",
    "\n",
    "# Needle Data\n",
    "pp_sep_site_exchanges = pd.read_csv(data.open(r'data/pp_sep_site_exchanges.csv', pwd = b'*$1Y5.2,|sG$'))\n",
    "pp_sep_site_participants = pd.read_csv(data.open(r'data/pp_sep_site_participants.csv', pwd = b'*$1Y5.2,|sG$'))\n",
    "\n",
    "# Other Data\n",
    "hf_samsha_providers = pd.read_csv(data.open(r'data/hf_samsha_providers.csv', pwd = b\"*$1Y5.2,|sG$\"))\n",
    "pp_refill_events = pd.read_csv(data.open(r'data/pp_refill_events.csv', pwd = b'*$1Y5.2,|sG$'))\n",
    "dph_od_resident_counts = pd.read_csv(data.open(r'data/dph_od_resident_counts.csv', pwd = b'*$1Y5.2,|sG$'))\n",
    "pp_refill_zipcode_metrics = pd.read_csv(data.open(r'data/pp_refill_zipcode_metrics.csv', pwd = b'*$1Y5.2,|sG$'))\n",
    "hf_physician_locator = pd.read_csv(data.open(r'data/hf_physician_locator.csv', pwd = b'*$1Y5.2,|sG$'))"
   ]
  },
  {
   "cell_type": "code",
   "execution_count": 9,
   "metadata": {},
   "outputs": [
    {
     "data": {
      "text/html": [
       "<div>\n",
       "<style scoped>\n",
       "    .dataframe tbody tr th:only-of-type {\n",
       "        vertical-align: middle;\n",
       "    }\n",
       "\n",
       "    .dataframe tbody tr th {\n",
       "        vertical-align: top;\n",
       "    }\n",
       "\n",
       "    .dataframe thead th {\n",
       "        text-align: right;\n",
       "    }\n",
       "</style>\n",
       "<table border=\"1\" class=\"dataframe\">\n",
       "  <thead>\n",
       "    <tr style=\"text-align: right;\">\n",
       "      <th></th>\n",
       "      <th>participant_zip</th>\n",
       "      <th>avg_outcome_ems</th>\n",
       "      <th>avg_outcome_police</th>\n",
       "      <th>avg_outcome_ed</th>\n",
       "      <th>avg_outcome_death</th>\n",
       "      <th>avg_outcome_unk</th>\n",
       "      <th>avg_outcome_ok</th>\n",
       "      <th>avg_od_drug_heroin</th>\n",
       "      <th>avg_od_drug_cocaine</th>\n",
       "      <th>avg_od_drug_fentanyl</th>\n",
       "      <th>avg_od_drug_unknown</th>\n",
       "      <th>avg_od_drug_other</th>\n",
       "      <th>avg_od_present_breath</th>\n",
       "      <th>avg_od_present_unresponsive</th>\n",
       "      <th>avg_od_present_coloring</th>\n",
       "      <th>avg_od_present_other</th>\n",
       "      <th>avg_cpr_used</th>\n",
       "      <th>n_observations</th>\n",
       "    </tr>\n",
       "  </thead>\n",
       "  <tbody>\n",
       "    <tr>\n",
       "      <th>0</th>\n",
       "      <td>19111.0</td>\n",
       "      <td>0.366667</td>\n",
       "      <td>0.150000</td>\n",
       "      <td>0.200000</td>\n",
       "      <td>0.000000</td>\n",
       "      <td>0.150000</td>\n",
       "      <td>0.700000</td>\n",
       "      <td>0.517241</td>\n",
       "      <td>0.068966</td>\n",
       "      <td>0.310345</td>\n",
       "      <td>0.241379</td>\n",
       "      <td>0.161290</td>\n",
       "      <td>0.642857</td>\n",
       "      <td>0.750000</td>\n",
       "      <td>0.678571</td>\n",
       "      <td>0.000000</td>\n",
       "      <td>0.600000</td>\n",
       "      <td>31</td>\n",
       "    </tr>\n",
       "    <tr>\n",
       "      <th>1</th>\n",
       "      <td>19120.0</td>\n",
       "      <td>0.318182</td>\n",
       "      <td>0.210526</td>\n",
       "      <td>0.052632</td>\n",
       "      <td>0.000000</td>\n",
       "      <td>0.052632</td>\n",
       "      <td>0.526316</td>\n",
       "      <td>0.695652</td>\n",
       "      <td>0.130435</td>\n",
       "      <td>0.652174</td>\n",
       "      <td>0.000000</td>\n",
       "      <td>0.000000</td>\n",
       "      <td>0.304348</td>\n",
       "      <td>0.565217</td>\n",
       "      <td>0.478261</td>\n",
       "      <td>0.043478</td>\n",
       "      <td>0.428571</td>\n",
       "      <td>26</td>\n",
       "    </tr>\n",
       "    <tr>\n",
       "      <th>2</th>\n",
       "      <td>19122.0</td>\n",
       "      <td>0.187500</td>\n",
       "      <td>0.115385</td>\n",
       "      <td>0.000000</td>\n",
       "      <td>0.000000</td>\n",
       "      <td>0.076923</td>\n",
       "      <td>0.769231</td>\n",
       "      <td>0.366667</td>\n",
       "      <td>0.033333</td>\n",
       "      <td>0.366667</td>\n",
       "      <td>0.266667</td>\n",
       "      <td>0.093750</td>\n",
       "      <td>0.387097</td>\n",
       "      <td>0.419355</td>\n",
       "      <td>0.322581</td>\n",
       "      <td>0.225806</td>\n",
       "      <td>0.333333</td>\n",
       "      <td>36</td>\n",
       "    </tr>\n",
       "    <tr>\n",
       "      <th>3</th>\n",
       "      <td>19124.0</td>\n",
       "      <td>0.358209</td>\n",
       "      <td>0.176471</td>\n",
       "      <td>0.125000</td>\n",
       "      <td>0.026144</td>\n",
       "      <td>0.071895</td>\n",
       "      <td>0.581699</td>\n",
       "      <td>0.820513</td>\n",
       "      <td>0.200000</td>\n",
       "      <td>0.528205</td>\n",
       "      <td>0.061538</td>\n",
       "      <td>0.088235</td>\n",
       "      <td>0.438144</td>\n",
       "      <td>0.541237</td>\n",
       "      <td>0.556701</td>\n",
       "      <td>0.030928</td>\n",
       "      <td>0.453333</td>\n",
       "      <td>219</td>\n",
       "    </tr>\n",
       "    <tr>\n",
       "      <th>4</th>\n",
       "      <td>19125.0</td>\n",
       "      <td>0.206186</td>\n",
       "      <td>0.115942</td>\n",
       "      <td>0.072464</td>\n",
       "      <td>0.043478</td>\n",
       "      <td>0.202899</td>\n",
       "      <td>0.608696</td>\n",
       "      <td>0.648352</td>\n",
       "      <td>0.109890</td>\n",
       "      <td>0.494505</td>\n",
       "      <td>0.098901</td>\n",
       "      <td>0.140000</td>\n",
       "      <td>0.377778</td>\n",
       "      <td>0.511111</td>\n",
       "      <td>0.555556</td>\n",
       "      <td>0.011236</td>\n",
       "      <td>0.419355</td>\n",
       "      <td>102</td>\n",
       "    </tr>\n",
       "  </tbody>\n",
       "</table>\n",
       "</div>"
      ],
      "text/plain": [
       "   participant_zip  avg_outcome_ems  avg_outcome_police  avg_outcome_ed  \\\n",
       "0          19111.0         0.366667            0.150000        0.200000   \n",
       "1          19120.0         0.318182            0.210526        0.052632   \n",
       "2          19122.0         0.187500            0.115385        0.000000   \n",
       "3          19124.0         0.358209            0.176471        0.125000   \n",
       "4          19125.0         0.206186            0.115942        0.072464   \n",
       "\n",
       "   avg_outcome_death  avg_outcome_unk  avg_outcome_ok  avg_od_drug_heroin  \\\n",
       "0           0.000000         0.150000        0.700000            0.517241   \n",
       "1           0.000000         0.052632        0.526316            0.695652   \n",
       "2           0.000000         0.076923        0.769231            0.366667   \n",
       "3           0.026144         0.071895        0.581699            0.820513   \n",
       "4           0.043478         0.202899        0.608696            0.648352   \n",
       "\n",
       "   avg_od_drug_cocaine  avg_od_drug_fentanyl  avg_od_drug_unknown  \\\n",
       "0             0.068966              0.310345             0.241379   \n",
       "1             0.130435              0.652174             0.000000   \n",
       "2             0.033333              0.366667             0.266667   \n",
       "3             0.200000              0.528205             0.061538   \n",
       "4             0.109890              0.494505             0.098901   \n",
       "\n",
       "   avg_od_drug_other  avg_od_present_breath  avg_od_present_unresponsive  \\\n",
       "0           0.161290               0.642857                     0.750000   \n",
       "1           0.000000               0.304348                     0.565217   \n",
       "2           0.093750               0.387097                     0.419355   \n",
       "3           0.088235               0.438144                     0.541237   \n",
       "4           0.140000               0.377778                     0.511111   \n",
       "\n",
       "   avg_od_present_coloring  avg_od_present_other  avg_cpr_used  n_observations  \n",
       "0                 0.678571              0.000000      0.600000              31  \n",
       "1                 0.478261              0.043478      0.428571              26  \n",
       "2                 0.322581              0.225806      0.333333              36  \n",
       "3                 0.556701              0.030928      0.453333             219  \n",
       "4                 0.555556              0.011236      0.419355             102  "
      ]
     },
     "execution_count": 9,
     "metadata": {},
     "output_type": "execute_result"
    }
   ],
   "source": [
    "pp_refill_zipcode_metrics.head(5)"
   ]
  },
  {
   "cell_type": "code",
   "execution_count": 10,
   "metadata": {
    "scrolled": true
   },
   "outputs": [
    {
     "data": {
      "text/html": [
       "<div>\n",
       "<style scoped>\n",
       "    .dataframe tbody tr th:only-of-type {\n",
       "        vertical-align: middle;\n",
       "    }\n",
       "\n",
       "    .dataframe tbody tr th {\n",
       "        vertical-align: top;\n",
       "    }\n",
       "\n",
       "    .dataframe thead th {\n",
       "        text-align: right;\n",
       "    }\n",
       "</style>\n",
       "<table border=\"1\" class=\"dataframe\">\n",
       "  <thead>\n",
       "    <tr style=\"text-align: right;\">\n",
       "      <th></th>\n",
       "      <th>site_id</th>\n",
       "      <th>visit_month</th>\n",
       "      <th>syringes_returned</th>\n",
       "      <th>syringes_dispensed</th>\n",
       "      <th>no_exchanging_for</th>\n",
       "    </tr>\n",
       "  </thead>\n",
       "  <tbody>\n",
       "    <tr>\n",
       "      <th>0</th>\n",
       "      <td>1.0</td>\n",
       "      <td>2019-01-01</td>\n",
       "      <td>5625</td>\n",
       "      <td>6175</td>\n",
       "      <td>48</td>\n",
       "    </tr>\n",
       "    <tr>\n",
       "      <th>1</th>\n",
       "      <td>1.0</td>\n",
       "      <td>2019-02-01</td>\n",
       "      <td>12700</td>\n",
       "      <td>13960</td>\n",
       "      <td>89</td>\n",
       "    </tr>\n",
       "    <tr>\n",
       "      <th>2</th>\n",
       "      <td>1.0</td>\n",
       "      <td>2019-03-01</td>\n",
       "      <td>8862</td>\n",
       "      <td>10470</td>\n",
       "      <td>76</td>\n",
       "    </tr>\n",
       "    <tr>\n",
       "      <th>3</th>\n",
       "      <td>1.0</td>\n",
       "      <td>2019-04-01</td>\n",
       "      <td>6130</td>\n",
       "      <td>7070</td>\n",
       "      <td>64</td>\n",
       "    </tr>\n",
       "    <tr>\n",
       "      <th>4</th>\n",
       "      <td>1.0</td>\n",
       "      <td>2019-05-01</td>\n",
       "      <td>9369</td>\n",
       "      <td>9830</td>\n",
       "      <td>66</td>\n",
       "    </tr>\n",
       "  </tbody>\n",
       "</table>\n",
       "</div>"
      ],
      "text/plain": [
       "   site_id visit_month  syringes_returned  syringes_dispensed  \\\n",
       "0      1.0  2019-01-01               5625                6175   \n",
       "1      1.0  2019-02-01              12700               13960   \n",
       "2      1.0  2019-03-01               8862               10470   \n",
       "3      1.0  2019-04-01               6130                7070   \n",
       "4      1.0  2019-05-01               9369                9830   \n",
       "\n",
       "   no_exchanging_for  \n",
       "0                 48  \n",
       "1                 89  \n",
       "2                 76  \n",
       "3                 64  \n",
       "4                 66  "
      ]
     },
     "execution_count": 10,
     "metadata": {},
     "output_type": "execute_result"
    }
   ],
   "source": [
    "pp_sep_site_exchanges.head(5)"
   ]
  },
  {
   "cell_type": "code",
   "execution_count": 11,
   "metadata": {},
   "outputs": [
    {
     "data": {
      "text/plain": [
       "7.0     12\n",
       "4.0     12\n",
       "5.0     12\n",
       "10.0    12\n",
       "6.0     12\n",
       "8.0     12\n",
       "1.0     11\n",
       "2.0     11\n",
       "3.0     11\n",
       "11.0    11\n",
       "99.0    10\n",
       "9.0     10\n",
       "22.0     1\n",
       "12.0     1\n",
       "13.0     1\n",
       "17.0     1\n",
       "18.0     1\n",
       "Name: site_id, dtype: int64"
      ]
     },
     "execution_count": 11,
     "metadata": {},
     "output_type": "execute_result"
    }
   ],
   "source": [
    "pp_sep_site_exchanges[\"site_id\"].value_counts()"
   ]
  },
  {
   "cell_type": "code",
   "execution_count": 12,
   "metadata": {
    "scrolled": true
   },
   "outputs": [
    {
     "data": {
      "text/html": [
       "<div>\n",
       "<style scoped>\n",
       "    .dataframe tbody tr th:only-of-type {\n",
       "        vertical-align: middle;\n",
       "    }\n",
       "\n",
       "    .dataframe tbody tr th {\n",
       "        vertical-align: top;\n",
       "    }\n",
       "\n",
       "    .dataframe thead th {\n",
       "        text-align: right;\n",
       "    }\n",
       "</style>\n",
       "<table border=\"1\" class=\"dataframe\">\n",
       "  <thead>\n",
       "    <tr style=\"text-align: right;\">\n",
       "      <th></th>\n",
       "      <th>site_id</th>\n",
       "      <th>visit_month</th>\n",
       "      <th>count_distinct_participants</th>\n",
       "    </tr>\n",
       "  </thead>\n",
       "  <tbody>\n",
       "    <tr>\n",
       "      <th>0</th>\n",
       "      <td>1</td>\n",
       "      <td>2019-01-01</td>\n",
       "      <td>42</td>\n",
       "    </tr>\n",
       "    <tr>\n",
       "      <th>1</th>\n",
       "      <td>1</td>\n",
       "      <td>2019-10-01</td>\n",
       "      <td>51</td>\n",
       "    </tr>\n",
       "    <tr>\n",
       "      <th>2</th>\n",
       "      <td>1</td>\n",
       "      <td>2019-11-01</td>\n",
       "      <td>73</td>\n",
       "    </tr>\n",
       "    <tr>\n",
       "      <th>3</th>\n",
       "      <td>1</td>\n",
       "      <td>2019-12-01</td>\n",
       "      <td>54</td>\n",
       "    </tr>\n",
       "    <tr>\n",
       "      <th>4</th>\n",
       "      <td>1</td>\n",
       "      <td>2019-02-01</td>\n",
       "      <td>74</td>\n",
       "    </tr>\n",
       "  </tbody>\n",
       "</table>\n",
       "</div>"
      ],
      "text/plain": [
       "   site_id visit_month  count_distinct_participants\n",
       "0        1  2019-01-01                           42\n",
       "1        1  2019-10-01                           51\n",
       "2        1  2019-11-01                           73\n",
       "3        1  2019-12-01                           54\n",
       "4        1  2019-02-01                           74"
      ]
     },
     "execution_count": 12,
     "metadata": {},
     "output_type": "execute_result"
    }
   ],
   "source": [
    "pp_sep_site_participants.head(5)"
   ]
  },
  {
   "cell_type": "code",
   "execution_count": 13,
   "metadata": {
    "scrolled": true
   },
   "outputs": [
    {
     "data": {
      "text/plain": [
       "5     14\n",
       "8     13\n",
       "7     12\n",
       "4     12\n",
       "10    12\n",
       "6     12\n",
       "1     11\n",
       "2     11\n",
       "3     11\n",
       "11    11\n",
       "99    10\n",
       "9     10\n",
       "22     1\n",
       "12     1\n",
       "13     1\n",
       "17     1\n",
       "18     1\n",
       "Name: site_id, dtype: int64"
      ]
     },
     "execution_count": 13,
     "metadata": {},
     "output_type": "execute_result"
    }
   ],
   "source": [
    "pp_sep_site_participants[\"site_id\"].value_counts()"
   ]
  },
  {
   "cell_type": "code",
   "execution_count": 14,
   "metadata": {},
   "outputs": [],
   "source": [
    "#Random fact:\n",
    "\n",
    "#According to https://www.phila.gov/media/20181002083054/Injecting_Drug_Users_Philadelphia_2015.pdf\n",
    "# Approximately 55% of IDUs receive needles from needle exchanges."
   ]
  },
  {
   "cell_type": "markdown",
   "metadata": {},
   "source": [
    "## Some quick plots"
   ]
  },
  {
   "cell_type": "code",
   "execution_count": 15,
   "metadata": {
    "scrolled": true
   },
   "outputs": [
    {
     "data": {
      "image/png": "[encoded data removed]",
      "text/plain": [
       "<Figure size 1440x1080 with 4 Axes>"
      ]
     },
     "metadata": {
      "needs_background": "light"
     },
     "output_type": "display_data"
    }
   ],
   "source": [
    "%matplotlib inline\n",
    "import matplotlib.pyplot as plt\n",
    "\n",
    "pp_sep_site_exchanges.hist(bins = 50, figsize = (20,15))\n",
    "plt.show()"
   ]
  },
  {
   "cell_type": "markdown",
   "metadata": {},
   "source": [
    "Some of this data seems odd.\n",
    "\n",
    "Questions:\n",
    "\n",
    "1.  What does number exchanging for actually measure? Varies from 0 to ~1700, so hard to imagine it is not aggregated or that it is aggregated considering both extremes!\n",
    "2.  Why are site_id labels discontinuous? Is this an error in data collection?\n",
    "3.  Same as Q1 but for syringes returned and dispensed."
   ]
  },
  {
   "cell_type": "code",
   "execution_count": 16,
   "metadata": {},
   "outputs": [
    {
     "data": {
      "text/plain": [
       "array([[<matplotlib.axes._subplots.AxesSubplot object at 0x0000025C2B411B88>,\n",
       "        <matplotlib.axes._subplots.AxesSubplot object at 0x0000025C2B47BDC8>,\n",
       "        <matplotlib.axes._subplots.AxesSubplot object at 0x0000025C2ADD5348>,\n",
       "        <matplotlib.axes._subplots.AxesSubplot object at 0x0000025C2AE0CD48>],\n",
       "       [<matplotlib.axes._subplots.AxesSubplot object at 0x0000025C2AE44748>,\n",
       "        <matplotlib.axes._subplots.AxesSubplot object at 0x0000025C2AE7D188>,\n",
       "        <matplotlib.axes._subplots.AxesSubplot object at 0x0000025C2AEB7248>,\n",
       "        <matplotlib.axes._subplots.AxesSubplot object at 0x0000025C2AEF0348>],\n",
       "       [<matplotlib.axes._subplots.AxesSubplot object at 0x0000025C2AEF5F08>,\n",
       "        <matplotlib.axes._subplots.AxesSubplot object at 0x0000025C2AF35108>,\n",
       "        <matplotlib.axes._subplots.AxesSubplot object at 0x0000025C2AF9B6C8>,\n",
       "        <matplotlib.axes._subplots.AxesSubplot object at 0x0000025C2AFD3748>],\n",
       "       [<matplotlib.axes._subplots.AxesSubplot object at 0x0000025C2B00C888>,\n",
       "        <matplotlib.axes._subplots.AxesSubplot object at 0x0000025C2B0449C8>,\n",
       "        <matplotlib.axes._subplots.AxesSubplot object at 0x0000025C2B07DAC8>,\n",
       "        <matplotlib.axes._subplots.AxesSubplot object at 0x0000025C2B0B3BC8>]],\n",
       "      dtype=object)"
      ]
     },
     "execution_count": 16,
     "metadata": {},
     "output_type": "execute_result"
    },
    {
     "data": {
      "image/png": "[encoded data removed]",
      "text/plain": [
       "<Figure size 864x576 with 16 Axes>"
      ]
     },
     "metadata": {
      "needs_background": "light"
     },
     "output_type": "display_data"
    }
   ],
   "source": [
    "from pandas.plotting import scatter_matrix\n",
    "\n",
    "attributes = [\"avg_outcome_ems\", \"avg_outcome_police\", \"avg_outcome_ed\", \"avg_outcome_death\"]\n",
    "scatter_matrix(pp_refill_zipcode_metrics[attributes], figsize = (12,8))"
   ]
  },
  {
   "cell_type": "code",
   "execution_count": 18,
   "metadata": {
    "scrolled": true
   },
   "outputs": [
    {
     "name": "stdout",
     "output_type": "stream",
     "text": [
      "Saving figure police_vs_ems_outcomes\n"
     ]
    },
    {
     "data": {
      "image/png": "[encoded data removed]",
      "text/plain": [
       "<Figure size 432x288 with 1 Axes>"
      ]
     },
     "metadata": {
      "needs_background": "light"
     },
     "output_type": "display_data"
    }
   ],
   "source": [
    "pp_refill_zipcode_metrics.plot(kind = 'scatter', x =\"avg_outcome_police\", y = \"avg_outcome_ems\", alpha = .5)\n",
    "save_fig(\"police_vs_ems_outcomes\")"
   ]
  },
  {
   "cell_type": "markdown",
   "metadata": {},
   "source": [
    " ## Add lat/lon data to site location file"
   ]
  },
  {
   "cell_type": "code",
   "execution_count": 17,
   "metadata": {},
   "outputs": [],
   "source": [
    "# Zip code info:\n",
    "zip_path = os.path.join(PROJECT_ROOT_DIR, \"codebooks/sep_site_outrigger.csv\")\n",
    "lat_lon_path = os.path.join(PROJECT_ROOT_DIR, \"analyses/team04/mg/data/sep_site_outrigger_LATLON.csv\")\n",
    "zip_codes = pd.read_csv(zip_path)\n",
    "lat_lon = pd.read_csv(lat_lon_path)"
   ]
  },
  {
   "cell_type": "code",
   "execution_count": 2,
   "metadata": {
    "scrolled": true
   },
   "outputs": [
    {
     "ename": "NameError",
     "evalue": "name 'lat_lon' is not defined",
     "output_type": "error",
     "traceback": [
      "\u001b[1;31m---------------------------------------------------------------------------\u001b[0m",
      "\u001b[1;31mNameError\u001b[0m                                 Traceback (most recent call last)",
      "\u001b[1;32m<ipython-input-2-cb8ab1d2dc61>\u001b[0m in \u001b[0;36m<module>\u001b[1;34m\u001b[0m\n\u001b[1;32m----> 1\u001b[1;33m \u001b[0mlat_lon\u001b[0m\u001b[1;33m.\u001b[0m\u001b[0mhead\u001b[0m\u001b[1;33m(\u001b[0m\u001b[1;36m15\u001b[0m\u001b[1;33m)\u001b[0m\u001b[1;33m\u001b[0m\u001b[1;33m\u001b[0m\u001b[0m\n\u001b[0m",
      "\u001b[1;31mNameError\u001b[0m: name 'lat_lon' is not defined"
     ]
    }
   ],
   "source": [
    "lat_lon.head(15)"
   ]
  },
  {
   "cell_type": "code",
   "execution_count": 19,
   "metadata": {},
   "outputs": [],
   "source": [
    "# Fill in missing lat/lons. Should really automate, but for now:\n",
    "\n",
    "# Upon google search: Headquarters is at 39.992885, -75.119643\n",
    "\n",
    "# Since this is most frequent missing value, let's just start by replacing all NANs with it:\n",
    "lat_lon[[\"Lat\"]]=lat_lon[[\"Lat\"]].fillna(value = 39.992885)\n",
    "lat_lon[[\"Lon\"]]=lat_lon[[\"Lon\"]].fillna(value = -75.119643)\n",
    "\n",
    "\n",
    "# Can't find \"Ben Franklin\" as a current mobile location on PP website. Maybe ask about?\n",
    "# Choose random point on ben franklin parkway (small enough to choose randomly): 39.960957, -75.174247\n",
    "\n",
    "lat_lon.loc[lat_lon[\"site_location\"] == \"Ben Franklin\", [\"Lat\"]] = 39.960957\n",
    "lat_lon.loc[lat_lon[\"site_location\"] == \"Ben Franklin\", [\"Lon\"]] = -75.174247\n",
    "\n",
    "\n",
    "# Can't find location info for Project SAFE or SOL collective"
   ]
  },
  {
   "cell_type": "code",
   "execution_count": 21,
   "metadata": {},
   "outputs": [],
   "source": [
    "lat_lon_new_path = os.path.join(PROJECT_ROOT_DIR, \"analyses/team04/mg/data/sep_site_outrigger_LATLON_updated.csv\")"
   ]
  },
  {
   "cell_type": "code",
   "execution_count": 49,
   "metadata": {},
   "outputs": [],
   "source": [
    "# Save updated lat_lon file\n",
    "lat_lon.to_csv(lat_lon_new_path, index = False) "
   ]
  },
  {
   "cell_type": "code",
   "execution_count": null,
   "metadata": {},
   "outputs": [],
   "source": []
  }
 ],
 "metadata": {
  "kernelspec": {
   "display_name": "Python 3",
   "language": "python",
   "name": "python3"
  },
  "language_info": {
   "codemirror_mode": {
    "name": "ipython",
    "version": 3
   },
   "file_extension": ".py",
   "mimetype": "text/x-python",
   "name": "python",
   "nbconvert_exporter": "python",
   "pygments_lexer": "ipython3",
   "version": "3.7.4"
  }
 },
 "nbformat": 4,
 "nbformat_minor": 2
}
