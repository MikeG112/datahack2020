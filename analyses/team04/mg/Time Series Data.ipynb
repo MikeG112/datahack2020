{
 "cells": [
  {
   "cell_type": "markdown",
   "metadata": {},
   "source": [
    "In this notebook we investigate time series data and time trends in the SEP data"
   ]
  },
  {
   "cell_type": "markdown",
   "metadata": {},
   "source": [
    "# Setup"
   ]
  },
  {
   "cell_type": "code",
   "execution_count": 8,
   "metadata": {},
   "outputs": [],
   "source": [
    "import pandas as pd\n",
    "import matplotlib.pyplot as plt\n",
    "import seaborn as sns\n",
    "import numpy as np\n",
    "import sklearn\n",
    "from datetime import datetime, date\n",
    "import os\n",
    "import zipfile"
   ]
  },
  {
   "cell_type": "code",
   "execution_count": 9,
   "metadata": {},
   "outputs": [],
   "source": [
    "# Set up some directory info, and figure export path\n",
    "PROJECT_ROOT_DIR = '../../../'\n",
    "NOTEBOOK_ID = 'Time_Series_Data'\n",
    "FIGURE_EXPORT_PATH = os.path.join(PROJECT_ROOT_DIR, \"analyses/team04/mg/figures\", NOTEBOOK_ID)\n",
    "os.makedirs(FIGURE_EXPORT_PATH, exist_ok = True)"
   ]
  },
  {
   "cell_type": "code",
   "execution_count": 10,
   "metadata": {},
   "outputs": [],
   "source": [
    "# Define figure export\n",
    "def save_fig(fig_id, tight_layout=True, fig_extension = \"png\", resolution = 300):\n",
    "    path = os.path.join(FIGURE_EXPORT_PATH, fig_id + '.' + fig_extension)\n",
    "    print(\"Saving figure\", fig_id)\n",
    "    if tight_layout:\n",
    "        plt.tight_layout()\n",
    "    plt.savefig(path, format = fig_extension, dpi = resolution)"
   ]
  },
  {
   "cell_type": "code",
   "execution_count": 11,
   "metadata": {},
   "outputs": [],
   "source": [
    "# Set up some plotting conveniences/settings\n",
    "import matplotlib as mpl\n",
    "import matplotlib.pyplot as plt\n",
    "mpl.rc('axes', labelsize=14)\n",
    "mpl.rc('xtick', labelsize=12)\n",
    "mpl.rc('ytick', labelsize=12)"
   ]
  },
  {
   "cell_type": "code",
   "execution_count": 12,
   "metadata": {},
   "outputs": [],
   "source": [
    "# Original data path\n",
    "DATA_PATH = os.path.join(PROJECT_ROOT_DIR, \"data/data.zip\")\n",
    "data = zipfile.ZipFile(DATA_PATH) \n",
    "# Site location path\n",
    "LAT_LON_PATH = os.path.join(PROJECT_ROOT_DIR, \"analyses/team04/mg/data/sep_site_outrigger_LATLON_updated.csv\")\n",
    "\n",
    "###########\n",
    "# Load data\n",
    "###########\n",
    "\n",
    "# Needle Data\n",
    "pp_sep_site_exchanges = pd.read_csv(data.open(r'data/pp_sep_site_exchanges.csv', pwd = b'*$1Y5.2,|sG$'))\n",
    "pp_sep_site_participants = pd.read_csv(data.open(r'data/pp_sep_site_participants.csv', pwd = b'*$1Y5.2,|sG$'))\n",
    "\n",
    "# Site location data\n",
    "lat_lon = pd.read_csv(LAT_LON_PATH)"
   ]
  },
  {
   "cell_type": "code",
   "execution_count": 14,
   "metadata": {
    "scrolled": false
   },
   "outputs": [
    {
     "data": {
      "text/html": [
       "<div>\n",
       "<style scoped>\n",
       "    .dataframe tbody tr th:only-of-type {\n",
       "        vertical-align: middle;\n",
       "    }\n",
       "\n",
       "    .dataframe tbody tr th {\n",
       "        vertical-align: top;\n",
       "    }\n",
       "\n",
       "    .dataframe thead th {\n",
       "        text-align: right;\n",
       "    }\n",
       "</style>\n",
       "<table border=\"1\" class=\"dataframe\">\n",
       "  <thead>\n",
       "    <tr style=\"text-align: right;\">\n",
       "      <th></th>\n",
       "      <th>site_id</th>\n",
       "      <th>visit_month</th>\n",
       "      <th>syringes_returned</th>\n",
       "      <th>syringes_dispensed</th>\n",
       "      <th>no_exchanging_for</th>\n",
       "    </tr>\n",
       "  </thead>\n",
       "  <tbody>\n",
       "    <tr>\n",
       "      <th>0</th>\n",
       "      <td>1.0</td>\n",
       "      <td>2019-01-01</td>\n",
       "      <td>5625</td>\n",
       "      <td>6175</td>\n",
       "      <td>48</td>\n",
       "    </tr>\n",
       "    <tr>\n",
       "      <th>1</th>\n",
       "      <td>1.0</td>\n",
       "      <td>2019-02-01</td>\n",
       "      <td>12700</td>\n",
       "      <td>13960</td>\n",
       "      <td>89</td>\n",
       "    </tr>\n",
       "    <tr>\n",
       "      <th>2</th>\n",
       "      <td>1.0</td>\n",
       "      <td>2019-03-01</td>\n",
       "      <td>8862</td>\n",
       "      <td>10470</td>\n",
       "      <td>76</td>\n",
       "    </tr>\n",
       "    <tr>\n",
       "      <th>3</th>\n",
       "      <td>1.0</td>\n",
       "      <td>2019-04-01</td>\n",
       "      <td>6130</td>\n",
       "      <td>7070</td>\n",
       "      <td>64</td>\n",
       "    </tr>\n",
       "    <tr>\n",
       "      <th>4</th>\n",
       "      <td>1.0</td>\n",
       "      <td>2019-05-01</td>\n",
       "      <td>9369</td>\n",
       "      <td>9830</td>\n",
       "      <td>66</td>\n",
       "    </tr>\n",
       "  </tbody>\n",
       "</table>\n",
       "</div>"
      ],
      "text/plain": [
       "   site_id visit_month  syringes_returned  syringes_dispensed  \\\n",
       "0      1.0  2019-01-01               5625                6175   \n",
       "1      1.0  2019-02-01              12700               13960   \n",
       "2      1.0  2019-03-01               8862               10470   \n",
       "3      1.0  2019-04-01               6130                7070   \n",
       "4      1.0  2019-05-01               9369                9830   \n",
       "\n",
       "   no_exchanging_for  \n",
       "0                 48  \n",
       "1                 89  \n",
       "2                 76  \n",
       "3                 64  \n",
       "4                 66  "
      ]
     },
     "execution_count": 14,
     "metadata": {},
     "output_type": "execute_result"
    }
   ],
   "source": [
    "pp_sep_site_exchanges.head(5)"
   ]
  },
  {
   "cell_type": "code",
   "execution_count": 19,
   "metadata": {},
   "outputs": [
    {
     "data": {
      "text/html": [
       "<div>\n",
       "<style scoped>\n",
       "    .dataframe tbody tr th:only-of-type {\n",
       "        vertical-align: middle;\n",
       "    }\n",
       "\n",
       "    .dataframe tbody tr th {\n",
       "        vertical-align: top;\n",
       "    }\n",
       "\n",
       "    .dataframe thead th {\n",
       "        text-align: right;\n",
       "    }\n",
       "</style>\n",
       "<table border=\"1\" class=\"dataframe\">\n",
       "  <thead>\n",
       "    <tr style=\"text-align: right;\">\n",
       "      <th></th>\n",
       "      <th>site_id</th>\n",
       "      <th>visit_month</th>\n",
       "      <th>count_distinct_participants</th>\n",
       "    </tr>\n",
       "  </thead>\n",
       "  <tbody>\n",
       "    <tr>\n",
       "      <th>0</th>\n",
       "      <td>1</td>\n",
       "      <td>2019-01-01</td>\n",
       "      <td>42</td>\n",
       "    </tr>\n",
       "    <tr>\n",
       "      <th>1</th>\n",
       "      <td>1</td>\n",
       "      <td>2019-10-01</td>\n",
       "      <td>51</td>\n",
       "    </tr>\n",
       "    <tr>\n",
       "      <th>2</th>\n",
       "      <td>1</td>\n",
       "      <td>2019-11-01</td>\n",
       "      <td>73</td>\n",
       "    </tr>\n",
       "    <tr>\n",
       "      <th>3</th>\n",
       "      <td>1</td>\n",
       "      <td>2019-12-01</td>\n",
       "      <td>54</td>\n",
       "    </tr>\n",
       "    <tr>\n",
       "      <th>4</th>\n",
       "      <td>1</td>\n",
       "      <td>2019-02-01</td>\n",
       "      <td>74</td>\n",
       "    </tr>\n",
       "  </tbody>\n",
       "</table>\n",
       "</div>"
      ],
      "text/plain": [
       "   site_id visit_month  count_distinct_participants\n",
       "0        1  2019-01-01                           42\n",
       "1        1  2019-10-01                           51\n",
       "2        1  2019-11-01                           73\n",
       "3        1  2019-12-01                           54\n",
       "4        1  2019-02-01                           74"
      ]
     },
     "execution_count": 19,
     "metadata": {},
     "output_type": "execute_result"
    }
   ],
   "source": [
    "pp_sep_site_participants.head(5)"
   ]
  },
  {
   "cell_type": "code",
   "execution_count": 23,
   "metadata": {},
   "outputs": [
    {
     "data": {
      "text/plain": [
       "site_id               float64\n",
       "visit_month            object\n",
       "syringes_returned       int64\n",
       "syringes_dispensed      int64\n",
       "no_exchanging_for       int64\n",
       "dtype: object"
      ]
     },
     "execution_count": 23,
     "metadata": {},
     "output_type": "execute_result"
    }
   ],
   "source": [
    "pp_sep_site_exchanges.dtypes"
   ]
  },
  {
   "cell_type": "code",
   "execution_count": 24,
   "metadata": {},
   "outputs": [],
   "source": [
    "# Change site_id dtype for merging\n",
    "pp_sep_site_participants[\"site_id\"] =pp_sep_site_participants[\"site_id\"].astype('float64')"
   ]
  },
  {
   "cell_type": "code",
   "execution_count": 25,
   "metadata": {},
   "outputs": [
    {
     "data": {
      "text/html": [
       "<div>\n",
       "<style scoped>\n",
       "    .dataframe tbody tr th:only-of-type {\n",
       "        vertical-align: middle;\n",
       "    }\n",
       "\n",
       "    .dataframe tbody tr th {\n",
       "        vertical-align: top;\n",
       "    }\n",
       "\n",
       "    .dataframe thead th {\n",
       "        text-align: right;\n",
       "    }\n",
       "</style>\n",
       "<table border=\"1\" class=\"dataframe\">\n",
       "  <thead>\n",
       "    <tr style=\"text-align: right;\">\n",
       "      <th></th>\n",
       "      <th>site_id</th>\n",
       "      <th>visit_month</th>\n",
       "      <th>count_distinct_participants</th>\n",
       "    </tr>\n",
       "  </thead>\n",
       "  <tbody>\n",
       "    <tr>\n",
       "      <th>0</th>\n",
       "      <td>1.0</td>\n",
       "      <td>2019-01-01</td>\n",
       "      <td>42</td>\n",
       "    </tr>\n",
       "    <tr>\n",
       "      <th>1</th>\n",
       "      <td>1.0</td>\n",
       "      <td>2019-10-01</td>\n",
       "      <td>51</td>\n",
       "    </tr>\n",
       "    <tr>\n",
       "      <th>2</th>\n",
       "      <td>1.0</td>\n",
       "      <td>2019-11-01</td>\n",
       "      <td>73</td>\n",
       "    </tr>\n",
       "    <tr>\n",
       "      <th>3</th>\n",
       "      <td>1.0</td>\n",
       "      <td>2019-12-01</td>\n",
       "      <td>54</td>\n",
       "    </tr>\n",
       "    <tr>\n",
       "      <th>4</th>\n",
       "      <td>1.0</td>\n",
       "      <td>2019-02-01</td>\n",
       "      <td>74</td>\n",
       "    </tr>\n",
       "  </tbody>\n",
       "</table>\n",
       "</div>"
      ],
      "text/plain": [
       "   site_id visit_month  count_distinct_participants\n",
       "0      1.0  2019-01-01                           42\n",
       "1      1.0  2019-10-01                           51\n",
       "2      1.0  2019-11-01                           73\n",
       "3      1.0  2019-12-01                           54\n",
       "4      1.0  2019-02-01                           74"
      ]
     },
     "execution_count": 25,
     "metadata": {},
     "output_type": "execute_result"
    }
   ],
   "source": [
    "pp_sep_site_participants.head(5)"
   ]
  },
  {
   "cell_type": "code",
   "execution_count": 26,
   "metadata": {},
   "outputs": [],
   "source": [
    "# Let's merge these two dataframes:\n",
    "pp_sep_site = pd.merge(pp_sep_site_exchanges, pp_sep_site_participants, how = 'inner', on =[\"site_id\", \"visit_month\"])"
   ]
  },
  {
   "cell_type": "code",
   "execution_count": 27,
   "metadata": {},
   "outputs": [
    {
     "data": {
      "text/html": [
       "<div>\n",
       "<style scoped>\n",
       "    .dataframe tbody tr th:only-of-type {\n",
       "        vertical-align: middle;\n",
       "    }\n",
       "\n",
       "    .dataframe tbody tr th {\n",
       "        vertical-align: top;\n",
       "    }\n",
       "\n",
       "    .dataframe thead th {\n",
       "        text-align: right;\n",
       "    }\n",
       "</style>\n",
       "<table border=\"1\" class=\"dataframe\">\n",
       "  <thead>\n",
       "    <tr style=\"text-align: right;\">\n",
       "      <th></th>\n",
       "      <th>site_id</th>\n",
       "      <th>visit_month</th>\n",
       "      <th>syringes_returned</th>\n",
       "      <th>syringes_dispensed</th>\n",
       "      <th>no_exchanging_for</th>\n",
       "      <th>count_distinct_participants</th>\n",
       "    </tr>\n",
       "  </thead>\n",
       "  <tbody>\n",
       "    <tr>\n",
       "      <th>0</th>\n",
       "      <td>1.0</td>\n",
       "      <td>2019-01-01</td>\n",
       "      <td>5625</td>\n",
       "      <td>6175</td>\n",
       "      <td>48</td>\n",
       "      <td>42</td>\n",
       "    </tr>\n",
       "    <tr>\n",
       "      <th>1</th>\n",
       "      <td>1.0</td>\n",
       "      <td>2019-02-01</td>\n",
       "      <td>12700</td>\n",
       "      <td>13960</td>\n",
       "      <td>89</td>\n",
       "      <td>74</td>\n",
       "    </tr>\n",
       "    <tr>\n",
       "      <th>2</th>\n",
       "      <td>1.0</td>\n",
       "      <td>2019-03-01</td>\n",
       "      <td>8862</td>\n",
       "      <td>10470</td>\n",
       "      <td>76</td>\n",
       "      <td>61</td>\n",
       "    </tr>\n",
       "    <tr>\n",
       "      <th>3</th>\n",
       "      <td>1.0</td>\n",
       "      <td>2019-04-01</td>\n",
       "      <td>6130</td>\n",
       "      <td>7070</td>\n",
       "      <td>64</td>\n",
       "      <td>49</td>\n",
       "    </tr>\n",
       "    <tr>\n",
       "      <th>4</th>\n",
       "      <td>1.0</td>\n",
       "      <td>2019-05-01</td>\n",
       "      <td>9369</td>\n",
       "      <td>9830</td>\n",
       "      <td>66</td>\n",
       "      <td>57</td>\n",
       "    </tr>\n",
       "  </tbody>\n",
       "</table>\n",
       "</div>"
      ],
      "text/plain": [
       "   site_id visit_month  syringes_returned  syringes_dispensed  \\\n",
       "0      1.0  2019-01-01               5625                6175   \n",
       "1      1.0  2019-02-01              12700               13960   \n",
       "2      1.0  2019-03-01               8862               10470   \n",
       "3      1.0  2019-04-01               6130                7070   \n",
       "4      1.0  2019-05-01               9369                9830   \n",
       "\n",
       "   no_exchanging_for  count_distinct_participants  \n",
       "0                 48                           42  \n",
       "1                 89                           74  \n",
       "2                 76                           61  \n",
       "3                 64                           49  \n",
       "4                 66                           57  "
      ]
     },
     "execution_count": 27,
     "metadata": {},
     "output_type": "execute_result"
    }
   ],
   "source": [
    "pp_sep_site.head(5)"
   ]
  },
  {
   "cell_type": "code",
   "execution_count": 28,
   "metadata": {},
   "outputs": [
    {
     "data": {
      "text/plain": [
       "array([ 1.,  2.,  3.,  4.,  5.,  6.,  7.,  8.,  9., 10., 11., 12., 13.,\n",
       "       17., 18., 22., 99.])"
      ]
     },
     "execution_count": 28,
     "metadata": {},
     "output_type": "execute_result"
    }
   ],
   "source": [
    "pp_sep_site[\"site_id\"].unique()"
   ]
  },
  {
   "cell_type": "code",
   "execution_count": 30,
   "metadata": {},
   "outputs": [
    {
     "data": {
      "text/plain": [
       "array(['2019-01-01', '2019-02-01', '2019-03-01', '2019-04-01',\n",
       "       '2019-05-01', '2019-06-01', '2019-08-01', '2019-09-01',\n",
       "       '2019-10-01', '2019-11-01', '2019-12-01', '2019-07-01'],\n",
       "      dtype=object)"
      ]
     },
     "execution_count": 30,
     "metadata": {},
     "output_type": "execute_result"
    }
   ],
   "source": [
    "pp_sep_site[\"visit_month\"].unique()"
   ]
  },
  {
   "cell_type": "code",
   "execution_count": 31,
   "metadata": {},
   "outputs": [],
   "source": [
    "# Convert dates into datetime format\n",
    "pp_sep_site[\"visit_month\"] = pd.to_datetime(pp_sep_site[\"visit_month\"])"
   ]
  },
  {
   "cell_type": "code",
   "execution_count": 32,
   "metadata": {},
   "outputs": [],
   "source": [
    "# Definition to plot time series by site_id\n",
    "\n",
    "# Provide features and dates as list:\n",
    "def sep_site_time_series(site_id, features, dates):\n",
    "    fig, ax = plt.subplots(figsize=(12,6))\n",
    "    for feature in features:\n",
    "        ax.plot(dates, Total_balances_by_date_45, color = 'lightblue',label =f'{feature}')\n",
    "\n",
    "    # Add labels\n",
    "    ax.set_ylabel('Value')\n",
    "    ax.set_xlabel('Month')\n",
    "    ax.set_title('SEP site time series')\n",
    "    ax.legend()"
   ]
  },
  {
   "cell_type": "code",
   "execution_count": 38,
   "metadata": {},
   "outputs": [
    {
     "data": {
      "text/plain": [
       "Timestamp('2019-01-01 00:00:00')"
      ]
     },
     "execution_count": 38,
     "metadata": {},
     "output_type": "execute_result"
    }
   ],
   "source": [
    "pp_sep_site[\"visit_month\"][0]"
   ]
  },
  {
   "cell_type": "code",
   "execution_count": 43,
   "metadata": {},
   "outputs": [],
   "source": [
    "dates = pp_sep_site[\"visit_month\"]\n",
    "returns_site_1 = pp_sep_site.loc[pp_sep_site[\"site_id\"]==1.]\n"
   ]
  },
  {
   "cell_type": "code",
   "execution_count": 47,
   "metadata": {},
   "outputs": [
    {
     "data": {
      "text/plain": [
       "<matplotlib.legend.Legend at 0x2c3573b7b88>"
      ]
     },
     "execution_count": 47,
     "metadata": {},
     "output_type": "execute_result"
    },
    {
     "data": {
      "image/png": "[encoded data removed]",
      "text/plain": [
       "<Figure size 864x432 with 1 Axes>"
      ]
     },
     "metadata": {
      "needs_background": "light"
     },
     "output_type": "display_data"
    }
   ],
   "source": [
    "from pandas.plotting import register_matplotlib_converters\n",
    "register_matplotlib_converters()\n",
    "\n",
    "fig, ax = plt.subplots(figsize=(12,6))\n",
    "ax.plot(returns_site_1[\"visit_month\"], returns_site_1[\"syringes_returned\"], color = 'lightblue',label ='Syringes Returned')\n",
    "ax.plot(returns_site_1[\"visit_month\"], returns_site_1[\"syringes_dispensed\"], color = 'orange',label ='Syringes Dispensed')\n",
    "\n",
    "# Add labels\n",
    "ax.set_ylabel('Value')\n",
    "ax.set_xlabel('Month')\n",
    "ax.set_title('SEP site 1 time series')\n",
    "#ax.set_xticks(dates)\n",
    "#ax.set_xticklabels(dates)\n",
    "ax.legend()"
   ]
  },
  {
   "cell_type": "code",
   "execution_count": 48,
   "metadata": {},
   "outputs": [
    {
     "data": {
      "text/plain": [
       "<matplotlib.legend.Legend at 0x2c3573cbc08>"
      ]
     },
     "execution_count": 48,
     "metadata": {},
     "output_type": "execute_result"
    },
    {
     "data": {
      "image/png": "[encoded data removed]",
      "text/plain": [
       "<Figure size 864x432 with 1 Axes>"
      ]
     },
     "metadata": {
      "needs_background": "light"
     },
     "output_type": "display_data"
    }
   ],
   "source": [
    "fig, ax = plt.subplots(figsize=(12,6))\n",
    "ax.plot(returns_site_1[\"visit_month\"], returns_site_1[\"no_exchanging_for\"], color = 'red',label ='no_exchanging_for')\n",
    "ax.plot(returns_site_1[\"visit_month\"], returns_site_1[\"count_distinct_participants\"], color = 'yellow',label ='participant Count')\n",
    "\n",
    "# Add labels\n",
    "ax.set_ylabel('Value')\n",
    "ax.set_xlabel('Month')\n",
    "ax.set_title('SEP site 1 time series')\n",
    "#ax.set_xticks(dates)\n",
    "#ax.set_xticklabels(dates)\n",
    "ax.legend()"
   ]
  },
  {
   "cell_type": "code",
   "execution_count": null,
   "metadata": {},
   "outputs": [],
   "source": []
  }
 ],
 "metadata": {
  "kernelspec": {
   "display_name": "Python [conda env:DataScienceEnvironment] *",
   "language": "python",
   "name": "conda-env-DataScienceEnvironment-py"
  },
  "language_info": {
   "codemirror_mode": {
    "name": "ipython",
    "version": 3
   },
   "file_extension": ".py",
   "mimetype": "text/x-python",
   "name": "python",
   "nbconvert_exporter": "python",
   "pygments_lexer": "ipython3",
   "version": "3.7.4"
  }
 },
 "nbformat": 4,
 "nbformat_minor": 2
}
